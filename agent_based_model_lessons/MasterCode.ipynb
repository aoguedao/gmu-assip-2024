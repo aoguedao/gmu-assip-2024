{
  "nbformat": 4,
  "nbformat_minor": 0,
  "metadata": {
    "colab": {
      "provenance": []
    },
    "kernelspec": {
      "name": "python3",
      "display_name": "Python 3"
    },
    "language_info": {
      "name": "python"
    }
  },
  "cells": [
    {
      "cell_type": "code",
      "source": [
        "pip install mesa"
      ],
      "metadata": {
        "colab": {
          "base_uri": "https://localhost:8080/"
        },
        "id": "a5T_rxZvUJMa",
        "outputId": "4ad2dcb7-1999-492b-fdff-37f0802e6d7f"
      },
      "execution_count": 1,
      "outputs": [
        {
          "output_type": "stream",
          "name": "stdout",
          "text": [
            "Collecting mesa\n",
            "  Downloading mesa-2.3.0-py3-none-any.whl (65 kB)\n",
            "\u001b[2K     \u001b[90m━━━━━━━━━━━━━━━━━━━━━━━━━━━━━━━━━━━━━━━━\u001b[0m \u001b[32m65.6/65.6 kB\u001b[0m \u001b[31m1.4 MB/s\u001b[0m eta \u001b[36m0:00:00\u001b[0m\n",
            "\u001b[?25hRequirement already satisfied: click in /usr/local/lib/python3.10/dist-packages (from mesa) (8.1.7)\n",
            "Collecting cookiecutter (from mesa)\n",
            "  Downloading cookiecutter-2.6.0-py3-none-any.whl (39 kB)\n",
            "Requirement already satisfied: matplotlib in /usr/local/lib/python3.10/dist-packages (from mesa) (3.7.1)\n",
            "Collecting mesa-viz-tornado>=0.1.3,~=0.1.0 (from mesa)\n",
            "  Downloading Mesa_Viz_Tornado-0.1.3-py3-none-any.whl (1.6 MB)\n",
            "\u001b[2K     \u001b[90m━━━━━━━━━━━━━━━━━━━━━━━━━━━━━━━━━━━━━━━━\u001b[0m \u001b[32m1.6/1.6 MB\u001b[0m \u001b[31m16.8 MB/s\u001b[0m eta \u001b[36m0:00:00\u001b[0m\n",
            "\u001b[?25hRequirement already satisfied: networkx in /usr/local/lib/python3.10/dist-packages (from mesa) (3.3)\n",
            "Requirement already satisfied: numpy in /usr/local/lib/python3.10/dist-packages (from mesa) (1.25.2)\n",
            "Requirement already satisfied: pandas in /usr/local/lib/python3.10/dist-packages (from mesa) (2.0.3)\n",
            "Collecting solara (from mesa)\n",
            "  Downloading solara-1.33.0-py2.py3-none-any.whl (5.7 kB)\n",
            "Requirement already satisfied: tqdm in /usr/local/lib/python3.10/dist-packages (from mesa) (4.66.4)\n",
            "Requirement already satisfied: tornado in /usr/local/lib/python3.10/dist-packages (from mesa-viz-tornado>=0.1.3,~=0.1.0->mesa) (6.3.3)\n",
            "Collecting binaryornot>=0.4.4 (from cookiecutter->mesa)\n",
            "  Downloading binaryornot-0.4.4-py2.py3-none-any.whl (9.0 kB)\n",
            "Requirement already satisfied: Jinja2<4.0.0,>=2.7 in /usr/local/lib/python3.10/dist-packages (from cookiecutter->mesa) (3.1.4)\n",
            "Requirement already satisfied: pyyaml>=5.3.1 in /usr/local/lib/python3.10/dist-packages (from cookiecutter->mesa) (6.0.1)\n",
            "Requirement already satisfied: python-slugify>=4.0.0 in /usr/local/lib/python3.10/dist-packages (from cookiecutter->mesa) (8.0.4)\n",
            "Requirement already satisfied: requests>=2.23.0 in /usr/local/lib/python3.10/dist-packages (from cookiecutter->mesa) (2.31.0)\n",
            "Collecting arrow (from cookiecutter->mesa)\n",
            "  Downloading arrow-1.3.0-py3-none-any.whl (66 kB)\n",
            "\u001b[2K     \u001b[90m━━━━━━━━━━━━━━━━━━━━━━━━━━━━━━━━━━━━━━━━\u001b[0m \u001b[32m66.4/66.4 kB\u001b[0m \u001b[31m5.1 MB/s\u001b[0m eta \u001b[36m0:00:00\u001b[0m\n",
            "\u001b[?25hRequirement already satisfied: rich in /usr/local/lib/python3.10/dist-packages (from cookiecutter->mesa) (13.7.1)\n",
            "Requirement already satisfied: contourpy>=1.0.1 in /usr/local/lib/python3.10/dist-packages (from matplotlib->mesa) (1.2.1)\n",
            "Requirement already satisfied: cycler>=0.10 in /usr/local/lib/python3.10/dist-packages (from matplotlib->mesa) (0.12.1)\n",
            "Requirement already satisfied: fonttools>=4.22.0 in /usr/local/lib/python3.10/dist-packages (from matplotlib->mesa) (4.53.0)\n",
            "Requirement already satisfied: kiwisolver>=1.0.1 in /usr/local/lib/python3.10/dist-packages (from matplotlib->mesa) (1.4.5)\n",
            "Requirement already satisfied: packaging>=20.0 in /usr/local/lib/python3.10/dist-packages (from matplotlib->mesa) (24.1)\n",
            "Requirement already satisfied: pillow>=6.2.0 in /usr/local/lib/python3.10/dist-packages (from matplotlib->mesa) (9.4.0)\n",
            "Requirement already satisfied: pyparsing>=2.3.1 in /usr/local/lib/python3.10/dist-packages (from matplotlib->mesa) (3.1.2)\n",
            "Requirement already satisfied: python-dateutil>=2.7 in /usr/local/lib/python3.10/dist-packages (from matplotlib->mesa) (2.8.2)\n",
            "Requirement already satisfied: pytz>=2020.1 in /usr/local/lib/python3.10/dist-packages (from pandas->mesa) (2023.4)\n",
            "Requirement already satisfied: tzdata>=2022.1 in /usr/local/lib/python3.10/dist-packages (from pandas->mesa) (2024.1)\n",
            "Collecting solara-server[dev,starlette]==1.33.0 (from solara->mesa)\n",
            "  Downloading solara_server-1.33.0-py2.py3-none-any.whl (3.9 kB)\n",
            "Collecting solara-ui[all]==1.33.0 (from solara->mesa)\n",
            "  Downloading solara_ui-1.33.0-py2.py3-none-any.whl (1.2 MB)\n",
            "\u001b[2K     \u001b[90m━━━━━━━━━━━━━━━━━━━━━━━━━━━━━━━━━━━━━━━━\u001b[0m \u001b[32m1.2/1.2 MB\u001b[0m \u001b[31m50.2 MB/s\u001b[0m eta \u001b[36m0:00:00\u001b[0m\n",
            "\u001b[?25hRequirement already satisfied: filelock in /usr/local/lib/python3.10/dist-packages (from solara-server[dev,starlette]==1.33.0->solara->mesa) (3.15.3)\n",
            "Requirement already satisfied: ipykernel in /usr/local/lib/python3.10/dist-packages (from solara-server[dev,starlette]==1.33.0->solara->mesa) (5.5.6)\n",
            "Collecting jupyter-client>=7.0.0 (from solara-server[dev,starlette]==1.33.0->solara->mesa)\n",
            "  Downloading jupyter_client-8.6.2-py3-none-any.whl (105 kB)\n",
            "\u001b[2K     \u001b[90m━━━━━━━━━━━━━━━━━━━━━━━━━━━━━━━━━━━━━━━━\u001b[0m \u001b[32m105.9/105.9 kB\u001b[0m \u001b[31m5.1 MB/s\u001b[0m eta \u001b[36m0:00:00\u001b[0m\n",
            "\u001b[?25hRequirement already satisfied: nbformat in /usr/local/lib/python3.10/dist-packages (from solara-server[dev,starlette]==1.33.0->solara->mesa) (5.10.4)\n",
            "Collecting rich-click (from solara-server[dev,starlette]==1.33.0->solara->mesa)\n",
            "  Downloading rich_click-1.8.3-py3-none-any.whl (35 kB)\n",
            "Collecting starlette (from solara-server[dev,starlette]==1.33.0->solara->mesa)\n",
            "  Downloading starlette-0.37.2-py3-none-any.whl (71 kB)\n",
            "\u001b[2K     \u001b[90m━━━━━━━━━━━━━━━━━━━━━━━━━━━━━━━━━━━━━━━━\u001b[0m \u001b[32m71.9/71.9 kB\u001b[0m \u001b[31m4.2 MB/s\u001b[0m eta \u001b[36m0:00:00\u001b[0m\n",
            "\u001b[?25hCollecting uvicorn (from solara-server[dev,starlette]==1.33.0->solara->mesa)\n",
            "  Downloading uvicorn-0.30.1-py3-none-any.whl (62 kB)\n",
            "\u001b[2K     \u001b[90m━━━━━━━━━━━━━━━━━━━━━━━━━━━━━━━━━━━━━━━━\u001b[0m \u001b[32m62.4/62.4 kB\u001b[0m \u001b[31m1.7 MB/s\u001b[0m eta \u001b[36m0:00:00\u001b[0m\n",
            "\u001b[?25hCollecting websockets (from solara-server[dev,starlette]==1.33.0->solara->mesa)\n",
            "  Downloading websockets-12.0-cp310-cp310-manylinux_2_5_x86_64.manylinux1_x86_64.manylinux_2_17_x86_64.manylinux2014_x86_64.whl (130 kB)\n",
            "\u001b[2K     \u001b[90m━━━━━━━━━━━━━━━━━━━━━━━━━━━━━━━━━━━━━━━━\u001b[0m \u001b[32m130.2/130.2 kB\u001b[0m \u001b[31m5.1 MB/s\u001b[0m eta \u001b[36m0:00:00\u001b[0m\n",
            "\u001b[?25hCollecting watchdog (from solara-server[dev,starlette]==1.33.0->solara->mesa)\n",
            "  Downloading watchdog-4.0.1-py3-none-manylinux2014_x86_64.whl (83 kB)\n",
            "\u001b[2K     \u001b[90m━━━━━━━━━━━━━━━━━━━━━━━━━━━━━━━━━━━━━━━━\u001b[0m \u001b[32m83.0/83.0 kB\u001b[0m \u001b[31m3.9 MB/s\u001b[0m eta \u001b[36m0:00:00\u001b[0m\n",
            "\u001b[?25hCollecting watchfiles (from solara-server[dev,starlette]==1.33.0->solara->mesa)\n",
            "  Downloading watchfiles-0.22.0-cp310-cp310-manylinux_2_17_x86_64.manylinux2014_x86_64.whl (1.2 MB)\n",
            "\u001b[2K     \u001b[90m━━━━━━━━━━━━━━━━━━━━━━━━━━━━━━━━━━━━━━━━\u001b[0m \u001b[32m1.2/1.2 MB\u001b[0m \u001b[31m23.7 MB/s\u001b[0m eta \u001b[36m0:00:00\u001b[0m\n",
            "\u001b[?25hRequirement already satisfied: humanize in /usr/local/lib/python3.10/dist-packages (from solara-ui[all]==1.33.0->solara->mesa) (4.7.0)\n",
            "Collecting ipyvue>=1.9.0 (from solara-ui[all]==1.33.0->solara->mesa)\n",
            "  Downloading ipyvue-1.11.1-py2.py3-none-any.whl (2.7 MB)\n",
            "\u001b[2K     \u001b[90m━━━━━━━━━━━━━━━━━━━━━━━━━━━━━━━━━━━━━━━━\u001b[0m \u001b[32m2.7/2.7 MB\u001b[0m \u001b[31m38.8 MB/s\u001b[0m eta \u001b[36m0:00:00\u001b[0m\n",
            "\u001b[?25hCollecting ipyvuetify>=1.6.10 (from solara-ui[all]==1.33.0->solara->mesa)\n",
            "  Downloading ipyvuetify-1.9.4-py2.py3-none-any.whl (6.1 MB)\n",
            "\u001b[2K     \u001b[90m━━━━━━━━━━━━━━━━━━━━━━━━━━━━━━━━━━━━━━━━\u001b[0m \u001b[32m6.1/6.1 MB\u001b[0m \u001b[31m13.6 MB/s\u001b[0m eta \u001b[36m0:00:00\u001b[0m\n",
            "\u001b[?25hRequirement already satisfied: ipywidgets>=7.7 in /usr/local/lib/python3.10/dist-packages (from solara-ui[all]==1.33.0->solara->mesa) (7.7.1)\n",
            "Collecting reacton>=1.7.1 (from solara-ui[all]==1.33.0->solara->mesa)\n",
            "  Downloading reacton-1.8.3-py2.py3-none-any.whl (107 kB)\n",
            "\u001b[2K     \u001b[90m━━━━━━━━━━━━━━━━━━━━━━━━━━━━━━━━━━━━━━━━\u001b[0m \u001b[32m107.9/107.9 kB\u001b[0m \u001b[31m6.9 MB/s\u001b[0m eta \u001b[36m0:00:00\u001b[0m\n",
            "\u001b[?25hRequirement already satisfied: chardet>=3.0.2 in /usr/local/lib/python3.10/dist-packages (from binaryornot>=0.4.4->cookiecutter->mesa) (5.2.0)\n",
            "Requirement already satisfied: MarkupSafe>=2.0 in /usr/local/lib/python3.10/dist-packages (from Jinja2<4.0.0,>=2.7->cookiecutter->mesa) (2.1.5)\n",
            "Requirement already satisfied: six>=1.5 in /usr/local/lib/python3.10/dist-packages (from python-dateutil>=2.7->matplotlib->mesa) (1.16.0)\n",
            "Requirement already satisfied: text-unidecode>=1.3 in /usr/local/lib/python3.10/dist-packages (from python-slugify>=4.0.0->cookiecutter->mesa) (1.3)\n",
            "Requirement already satisfied: charset-normalizer<4,>=2 in /usr/local/lib/python3.10/dist-packages (from requests>=2.23.0->cookiecutter->mesa) (3.3.2)\n",
            "Requirement already satisfied: idna<4,>=2.5 in /usr/local/lib/python3.10/dist-packages (from requests>=2.23.0->cookiecutter->mesa) (3.7)\n",
            "Requirement already satisfied: urllib3<3,>=1.21.1 in /usr/local/lib/python3.10/dist-packages (from requests>=2.23.0->cookiecutter->mesa) (2.0.7)\n",
            "Requirement already satisfied: certifi>=2017.4.17 in /usr/local/lib/python3.10/dist-packages (from requests>=2.23.0->cookiecutter->mesa) (2024.6.2)\n",
            "Collecting types-python-dateutil>=2.8.10 (from arrow->cookiecutter->mesa)\n",
            "  Downloading types_python_dateutil-2.9.0.20240316-py3-none-any.whl (9.7 kB)\n",
            "Requirement already satisfied: markdown-it-py>=2.2.0 in /usr/local/lib/python3.10/dist-packages (from rich->cookiecutter->mesa) (3.0.0)\n",
            "Requirement already satisfied: pygments<3.0.0,>=2.13.0 in /usr/local/lib/python3.10/dist-packages (from rich->cookiecutter->mesa) (2.16.1)\n",
            "Requirement already satisfied: ipython-genutils~=0.2.0 in /usr/local/lib/python3.10/dist-packages (from ipywidgets>=7.7->solara-ui[all]==1.33.0->solara->mesa) (0.2.0)\n",
            "Requirement already satisfied: traitlets>=4.3.1 in /usr/local/lib/python3.10/dist-packages (from ipywidgets>=7.7->solara-ui[all]==1.33.0->solara->mesa) (5.7.1)\n",
            "Requirement already satisfied: widgetsnbextension~=3.6.0 in /usr/local/lib/python3.10/dist-packages (from ipywidgets>=7.7->solara-ui[all]==1.33.0->solara->mesa) (3.6.6)\n",
            "Requirement already satisfied: ipython>=4.0.0 in /usr/local/lib/python3.10/dist-packages (from ipywidgets>=7.7->solara-ui[all]==1.33.0->solara->mesa) (7.34.0)\n",
            "Requirement already satisfied: jupyterlab-widgets>=1.0.0 in /usr/local/lib/python3.10/dist-packages (from ipywidgets>=7.7->solara-ui[all]==1.33.0->solara->mesa) (3.0.11)\n",
            "Requirement already satisfied: jupyter-core!=5.0.*,>=4.12 in /usr/local/lib/python3.10/dist-packages (from jupyter-client>=7.0.0->solara-server[dev,starlette]==1.33.0->solara->mesa) (5.7.2)\n",
            "Requirement already satisfied: pyzmq>=23.0 in /usr/local/lib/python3.10/dist-packages (from jupyter-client>=7.0.0->solara-server[dev,starlette]==1.33.0->solara->mesa) (24.0.1)\n",
            "Requirement already satisfied: mdurl~=0.1 in /usr/local/lib/python3.10/dist-packages (from markdown-it-py>=2.2.0->rich->cookiecutter->mesa) (0.1.2)\n",
            "Requirement already satisfied: typing-extensions>=4.1.1 in /usr/local/lib/python3.10/dist-packages (from reacton>=1.7.1->solara-ui[all]==1.33.0->solara->mesa) (4.12.2)\n",
            "Requirement already satisfied: fastjsonschema>=2.15 in /usr/local/lib/python3.10/dist-packages (from nbformat->solara-server[dev,starlette]==1.33.0->solara->mesa) (2.20.0)\n",
            "Requirement already satisfied: jsonschema>=2.6 in /usr/local/lib/python3.10/dist-packages (from nbformat->solara-server[dev,starlette]==1.33.0->solara->mesa) (4.19.2)\n",
            "Requirement already satisfied: cachetools in /usr/local/lib/python3.10/dist-packages (from solara-ui[all]==1.33.0->solara->mesa) (5.3.3)\n",
            "Requirement already satisfied: markdown in /usr/local/lib/python3.10/dist-packages (from solara-ui[all]==1.33.0->solara->mesa) (3.6)\n",
            "Collecting pymdown-extensions (from solara-ui[all]==1.33.0->solara->mesa)\n",
            "  Downloading pymdown_extensions-10.8.1-py3-none-any.whl (250 kB)\n",
            "\u001b[2K     \u001b[90m━━━━━━━━━━━━━━━━━━━━━━━━━━━━━━━━━━━━━━━━\u001b[0m \u001b[32m250.8/250.8 kB\u001b[0m \u001b[31m11.0 MB/s\u001b[0m eta \u001b[36m0:00:00\u001b[0m\n",
            "\u001b[?25hRequirement already satisfied: anyio<5,>=3.4.0 in /usr/local/lib/python3.10/dist-packages (from starlette->solara-server[dev,starlette]==1.33.0->solara->mesa) (3.7.1)\n",
            "Collecting h11>=0.8 (from uvicorn->solara-server[dev,starlette]==1.33.0->solara->mesa)\n",
            "  Downloading h11-0.14.0-py3-none-any.whl (58 kB)\n",
            "\u001b[2K     \u001b[90m━━━━━━━━━━━━━━━━━━━━━━━━━━━━━━━━━━━━━━━━\u001b[0m \u001b[32m58.3/58.3 kB\u001b[0m \u001b[31m4.4 MB/s\u001b[0m eta \u001b[36m0:00:00\u001b[0m\n",
            "\u001b[?25hRequirement already satisfied: sniffio>=1.1 in /usr/local/lib/python3.10/dist-packages (from anyio<5,>=3.4.0->starlette->solara-server[dev,starlette]==1.33.0->solara->mesa) (1.3.1)\n",
            "Requirement already satisfied: exceptiongroup in /usr/local/lib/python3.10/dist-packages (from anyio<5,>=3.4.0->starlette->solara-server[dev,starlette]==1.33.0->solara->mesa) (1.2.1)\n",
            "Requirement already satisfied: setuptools>=18.5 in /usr/local/lib/python3.10/dist-packages (from ipython>=4.0.0->ipywidgets>=7.7->solara-ui[all]==1.33.0->solara->mesa) (67.7.2)\n",
            "Collecting jedi>=0.16 (from ipython>=4.0.0->ipywidgets>=7.7->solara-ui[all]==1.33.0->solara->mesa)\n",
            "  Downloading jedi-0.19.1-py2.py3-none-any.whl (1.6 MB)\n",
            "\u001b[2K     \u001b[90m━━━━━━━━━━━━━━━━━━━━━━━━━━━━━━━━━━━━━━━━\u001b[0m \u001b[32m1.6/1.6 MB\u001b[0m \u001b[31m40.9 MB/s\u001b[0m eta \u001b[36m0:00:00\u001b[0m\n",
            "\u001b[?25hRequirement already satisfied: decorator in /usr/local/lib/python3.10/dist-packages (from ipython>=4.0.0->ipywidgets>=7.7->solara-ui[all]==1.33.0->solara->mesa) (4.4.2)\n",
            "Requirement already satisfied: pickleshare in /usr/local/lib/python3.10/dist-packages (from ipython>=4.0.0->ipywidgets>=7.7->solara-ui[all]==1.33.0->solara->mesa) (0.7.5)\n",
            "Requirement already satisfied: prompt-toolkit!=3.0.0,!=3.0.1,<3.1.0,>=2.0.0 in /usr/local/lib/python3.10/dist-packages (from ipython>=4.0.0->ipywidgets>=7.7->solara-ui[all]==1.33.0->solara->mesa) (3.0.47)\n",
            "Requirement already satisfied: backcall in /usr/local/lib/python3.10/dist-packages (from ipython>=4.0.0->ipywidgets>=7.7->solara-ui[all]==1.33.0->solara->mesa) (0.2.0)\n",
            "Requirement already satisfied: matplotlib-inline in /usr/local/lib/python3.10/dist-packages (from ipython>=4.0.0->ipywidgets>=7.7->solara-ui[all]==1.33.0->solara->mesa) (0.1.7)\n",
            "Requirement already satisfied: pexpect>4.3 in /usr/local/lib/python3.10/dist-packages (from ipython>=4.0.0->ipywidgets>=7.7->solara-ui[all]==1.33.0->solara->mesa) (4.9.0)\n",
            "Requirement already satisfied: attrs>=22.2.0 in /usr/local/lib/python3.10/dist-packages (from jsonschema>=2.6->nbformat->solara-server[dev,starlette]==1.33.0->solara->mesa) (23.2.0)\n",
            "Requirement already satisfied: jsonschema-specifications>=2023.03.6 in /usr/local/lib/python3.10/dist-packages (from jsonschema>=2.6->nbformat->solara-server[dev,starlette]==1.33.0->solara->mesa) (2023.12.1)\n",
            "Requirement already satisfied: referencing>=0.28.4 in /usr/local/lib/python3.10/dist-packages (from jsonschema>=2.6->nbformat->solara-server[dev,starlette]==1.33.0->solara->mesa) (0.35.1)\n",
            "Requirement already satisfied: rpds-py>=0.7.1 in /usr/local/lib/python3.10/dist-packages (from jsonschema>=2.6->nbformat->solara-server[dev,starlette]==1.33.0->solara->mesa) (0.18.1)\n",
            "Requirement already satisfied: platformdirs>=2.5 in /usr/local/lib/python3.10/dist-packages (from jupyter-core!=5.0.*,>=4.12->jupyter-client>=7.0.0->solara-server[dev,starlette]==1.33.0->solara->mesa) (4.2.2)\n",
            "Requirement already satisfied: notebook>=4.4.1 in /usr/local/lib/python3.10/dist-packages (from widgetsnbextension~=3.6.0->ipywidgets>=7.7->solara-ui[all]==1.33.0->solara->mesa) (6.5.5)\n",
            "Requirement already satisfied: parso<0.9.0,>=0.8.3 in /usr/local/lib/python3.10/dist-packages (from jedi>=0.16->ipython>=4.0.0->ipywidgets>=7.7->solara-ui[all]==1.33.0->solara->mesa) (0.8.4)\n",
            "Requirement already satisfied: argon2-cffi in /usr/local/lib/python3.10/dist-packages (from notebook>=4.4.1->widgetsnbextension~=3.6.0->ipywidgets>=7.7->solara-ui[all]==1.33.0->solara->mesa) (23.1.0)\n",
            "Collecting jupyter-client>=7.0.0 (from solara-server[dev,starlette]==1.33.0->solara->mesa)\n",
            "  Downloading jupyter_client-7.4.9-py3-none-any.whl (133 kB)\n",
            "\u001b[2K     \u001b[90m━━━━━━━━━━━━━━━━━━━━━━━━━━━━━━━━━━━━━━━━\u001b[0m \u001b[32m133.5/133.5 kB\u001b[0m \u001b[31m2.9 MB/s\u001b[0m eta \u001b[36m0:00:00\u001b[0m\n",
            "\u001b[?25hRequirement already satisfied: nbconvert>=5 in /usr/local/lib/python3.10/dist-packages (from notebook>=4.4.1->widgetsnbextension~=3.6.0->ipywidgets>=7.7->solara-ui[all]==1.33.0->solara->mesa) (6.5.4)\n",
            "Requirement already satisfied: nest-asyncio>=1.5 in /usr/local/lib/python3.10/dist-packages (from notebook>=4.4.1->widgetsnbextension~=3.6.0->ipywidgets>=7.7->solara-ui[all]==1.33.0->solara->mesa) (1.6.0)\n",
            "Requirement already satisfied: Send2Trash>=1.8.0 in /usr/local/lib/python3.10/dist-packages (from notebook>=4.4.1->widgetsnbextension~=3.6.0->ipywidgets>=7.7->solara-ui[all]==1.33.0->solara->mesa) (1.8.3)\n",
            "Requirement already satisfied: terminado>=0.8.3 in /usr/local/lib/python3.10/dist-packages (from notebook>=4.4.1->widgetsnbextension~=3.6.0->ipywidgets>=7.7->solara-ui[all]==1.33.0->solara->mesa) (0.18.1)\n",
            "Requirement already satisfied: prometheus-client in /usr/local/lib/python3.10/dist-packages (from notebook>=4.4.1->widgetsnbextension~=3.6.0->ipywidgets>=7.7->solara-ui[all]==1.33.0->solara->mesa) (0.20.0)\n",
            "Requirement already satisfied: nbclassic>=0.4.7 in /usr/local/lib/python3.10/dist-packages (from notebook>=4.4.1->widgetsnbextension~=3.6.0->ipywidgets>=7.7->solara-ui[all]==1.33.0->solara->mesa) (1.1.0)\n",
            "Requirement already satisfied: entrypoints in /usr/local/lib/python3.10/dist-packages (from jupyter-client>=7.0.0->solara-server[dev,starlette]==1.33.0->solara->mesa) (0.4)\n",
            "Requirement already satisfied: ptyprocess>=0.5 in /usr/local/lib/python3.10/dist-packages (from pexpect>4.3->ipython>=4.0.0->ipywidgets>=7.7->solara-ui[all]==1.33.0->solara->mesa) (0.7.0)\n",
            "Requirement already satisfied: wcwidth in /usr/local/lib/python3.10/dist-packages (from prompt-toolkit!=3.0.0,!=3.0.1,<3.1.0,>=2.0.0->ipython>=4.0.0->ipywidgets>=7.7->solara-ui[all]==1.33.0->solara->mesa) (0.2.13)\n",
            "Requirement already satisfied: notebook-shim>=0.2.3 in /usr/local/lib/python3.10/dist-packages (from nbclassic>=0.4.7->notebook>=4.4.1->widgetsnbextension~=3.6.0->ipywidgets>=7.7->solara-ui[all]==1.33.0->solara->mesa) (0.2.4)\n",
            "Requirement already satisfied: lxml in /usr/local/lib/python3.10/dist-packages (from nbconvert>=5->notebook>=4.4.1->widgetsnbextension~=3.6.0->ipywidgets>=7.7->solara-ui[all]==1.33.0->solara->mesa) (4.9.4)\n",
            "Requirement already satisfied: beautifulsoup4 in /usr/local/lib/python3.10/dist-packages (from nbconvert>=5->notebook>=4.4.1->widgetsnbextension~=3.6.0->ipywidgets>=7.7->solara-ui[all]==1.33.0->solara->mesa) (4.12.3)\n",
            "Requirement already satisfied: bleach in /usr/local/lib/python3.10/dist-packages (from nbconvert>=5->notebook>=4.4.1->widgetsnbextension~=3.6.0->ipywidgets>=7.7->solara-ui[all]==1.33.0->solara->mesa) (6.1.0)\n",
            "Requirement already satisfied: defusedxml in /usr/local/lib/python3.10/dist-packages (from nbconvert>=5->notebook>=4.4.1->widgetsnbextension~=3.6.0->ipywidgets>=7.7->solara-ui[all]==1.33.0->solara->mesa) (0.7.1)\n",
            "Requirement already satisfied: jupyterlab-pygments in /usr/local/lib/python3.10/dist-packages (from nbconvert>=5->notebook>=4.4.1->widgetsnbextension~=3.6.0->ipywidgets>=7.7->solara-ui[all]==1.33.0->solara->mesa) (0.3.0)\n",
            "Requirement already satisfied: mistune<2,>=0.8.1 in /usr/local/lib/python3.10/dist-packages (from nbconvert>=5->notebook>=4.4.1->widgetsnbextension~=3.6.0->ipywidgets>=7.7->solara-ui[all]==1.33.0->solara->mesa) (0.8.4)\n",
            "Requirement already satisfied: nbclient>=0.5.0 in /usr/local/lib/python3.10/dist-packages (from nbconvert>=5->notebook>=4.4.1->widgetsnbextension~=3.6.0->ipywidgets>=7.7->solara-ui[all]==1.33.0->solara->mesa) (0.10.0)\n",
            "Requirement already satisfied: pandocfilters>=1.4.1 in /usr/local/lib/python3.10/dist-packages (from nbconvert>=5->notebook>=4.4.1->widgetsnbextension~=3.6.0->ipywidgets>=7.7->solara-ui[all]==1.33.0->solara->mesa) (1.5.1)\n",
            "Requirement already satisfied: tinycss2 in /usr/local/lib/python3.10/dist-packages (from nbconvert>=5->notebook>=4.4.1->widgetsnbextension~=3.6.0->ipywidgets>=7.7->solara-ui[all]==1.33.0->solara->mesa) (1.3.0)\n",
            "Requirement already satisfied: argon2-cffi-bindings in /usr/local/lib/python3.10/dist-packages (from argon2-cffi->notebook>=4.4.1->widgetsnbextension~=3.6.0->ipywidgets>=7.7->solara-ui[all]==1.33.0->solara->mesa) (21.2.0)\n",
            "Requirement already satisfied: jupyter-server<3,>=1.8 in /usr/local/lib/python3.10/dist-packages (from notebook-shim>=0.2.3->nbclassic>=0.4.7->notebook>=4.4.1->widgetsnbextension~=3.6.0->ipywidgets>=7.7->solara-ui[all]==1.33.0->solara->mesa) (1.24.0)\n",
            "Requirement already satisfied: cffi>=1.0.1 in /usr/local/lib/python3.10/dist-packages (from argon2-cffi-bindings->argon2-cffi->notebook>=4.4.1->widgetsnbextension~=3.6.0->ipywidgets>=7.7->solara-ui[all]==1.33.0->solara->mesa) (1.16.0)\n",
            "Requirement already satisfied: soupsieve>1.2 in /usr/local/lib/python3.10/dist-packages (from beautifulsoup4->nbconvert>=5->notebook>=4.4.1->widgetsnbextension~=3.6.0->ipywidgets>=7.7->solara-ui[all]==1.33.0->solara->mesa) (2.5)\n",
            "Requirement already satisfied: webencodings in /usr/local/lib/python3.10/dist-packages (from bleach->nbconvert>=5->notebook>=4.4.1->widgetsnbextension~=3.6.0->ipywidgets>=7.7->solara-ui[all]==1.33.0->solara->mesa) (0.5.1)\n",
            "Requirement already satisfied: pycparser in /usr/local/lib/python3.10/dist-packages (from cffi>=1.0.1->argon2-cffi-bindings->argon2-cffi->notebook>=4.4.1->widgetsnbextension~=3.6.0->ipywidgets>=7.7->solara-ui[all]==1.33.0->solara->mesa) (2.22)\n",
            "Requirement already satisfied: websocket-client in /usr/local/lib/python3.10/dist-packages (from jupyter-server<3,>=1.8->notebook-shim>=0.2.3->nbclassic>=0.4.7->notebook>=4.4.1->widgetsnbextension~=3.6.0->ipywidgets>=7.7->solara-ui[all]==1.33.0->solara->mesa) (1.8.0)\n",
            "Installing collected packages: websockets, watchdog, types-python-dateutil, pymdown-extensions, mesa-viz-tornado, jedi, h11, binaryornot, watchfiles, uvicorn, starlette, jupyter-client, arrow, rich-click, cookiecutter, reacton, ipyvue, ipyvuetify, solara-ui, solara-server, solara, mesa\n",
            "  Attempting uninstall: jupyter-client\n",
            "    Found existing installation: jupyter-client 6.1.12\n",
            "    Uninstalling jupyter-client-6.1.12:\n",
            "      Successfully uninstalled jupyter-client-6.1.12\n",
            "Successfully installed arrow-1.3.0 binaryornot-0.4.4 cookiecutter-2.6.0 h11-0.14.0 ipyvue-1.11.1 ipyvuetify-1.9.4 jedi-0.19.1 jupyter-client-7.4.9 mesa-2.3.0 mesa-viz-tornado-0.1.3 pymdown-extensions-10.8.1 reacton-1.8.3 rich-click-1.8.3 solara-1.33.0 solara-server-1.33.0 solara-ui-1.33.0 starlette-0.37.2 types-python-dateutil-2.9.0.20240316 uvicorn-0.30.1 watchdog-4.0.1 watchfiles-0.22.0 websockets-12.0\n"
          ]
        }
      ]
    },
    {
      "cell_type": "code",
      "source": [
        "import mesa\n",
        "import random\n",
        "import seaborn as sns\n",
        "import numpy as np\n",
        "#"
      ],
      "metadata": {
        "id": "v0ri_HrVP-lY"
      },
      "execution_count": 2,
      "outputs": []
    },
    {
      "cell_type": "code",
      "source": [
        "class MyAgent(mesa.Agent):\n",
        "  def __init__(self,model,name,wealth,greed):\n",
        "    super().__init__(self,model)\n",
        "    self.name = name\n",
        "    self.wealth = wealth\n",
        "    self.greed = greed\n",
        "  def step(self):\n",
        "    print(\"agent {} has\".format(self.name), self.wealth, \"wealth\")\n",
        "    # Whatever else the agent does when activated"
      ],
      "metadata": {
        "id": "wnQXpSp2FJqr"
      },
      "execution_count": 3,
      "outputs": []
    },
    {
      "cell_type": "code",
      "source": [
        "class MyModel(mesa.Model):\n",
        "    def __init__(self, n_agents):\n",
        "      super().__init__()\n",
        "      self.schedule = mesa.time.RandomActivation(self)\n",
        "      self.grid = mesa.space.MultiGrid(10, 10, torus=True)\n",
        "      for i in range(n_agents):\n",
        "        wealth = random.randint(0,6)\n",
        "        greed = random.randint(0,1)\n",
        "        a = MyAgent(self,i,wealth,greed)\n",
        "        self.schedule.add(a)\n",
        "        coords = (self.random.randrange(0, 10), self.random.randrange(0, 10))\n",
        "        self.grid.place_agent(a, coords)\n",
        "    def step(self):\n",
        "      self.schedule.step()"
      ],
      "metadata": {
        "id": "nyVn1x16U3b8"
      },
      "execution_count": 4,
      "outputs": []
    },
    {
      "cell_type": "code",
      "execution_count": 5,
      "metadata": {
        "colab": {
          "base_uri": "https://localhost:8080/"
        },
        "id": "BM9vRWBMLavR",
        "outputId": "56dbb51d-9a53-47b4-e295-1b26aced8596"
      },
      "outputs": [
        {
          "output_type": "stream",
          "name": "stdout",
          "text": [
            "agent 2 has 2 wealth\n",
            "agent 1 has 1 wealth\n",
            "agent 3 has 0 wealth\n",
            "agent 0 has 0 wealth\n",
            "agent 4 has 6 wealth\n"
          ]
        }
      ],
      "source": [
        "a = MyModel(5)\n",
        "a.step()"
      ]
    },
    {
      "cell_type": "code",
      "source": [],
      "metadata": {
        "id": "26V9od3GeLJL"
      },
      "execution_count": null,
      "outputs": []
    },
    {
      "cell_type": "code",
      "source": [
        "class MyAgent(mesa.Agent):\n",
        "  def __init__(self,model,name,wealth,greed):\n",
        "    super().__init__(self,model)\n",
        "    self.name = name\n",
        "    self.wealth = wealth\n",
        "    self.greed = greed\n",
        "  def step(self):\n",
        "    print(\"agent {} has\".format(self.name), self.wealth, \"wealth\")\n",
        "    self.move()\n",
        "    if self.greed == 0:\n",
        "      if self.wealth > 0:\n",
        "        self.giveWealth()\n",
        "  def move(self):\n",
        "    pass\n",
        "  def giveWealth(self):\n",
        "    pass\n",
        "    # Whatever else the agent does when activated"
      ],
      "metadata": {
        "id": "CMvRTz69LzJL"
      },
      "execution_count": 6,
      "outputs": []
    },
    {
      "cell_type": "code",
      "source": [
        "class MyAgent(mesa.Agent):\n",
        "  def __init__(self,name,model,wealth,greed):\n",
        "    super().__init__(name,model)\n",
        "    self.name = name\n",
        "    self.wealth = wealth\n",
        "    self.greed = greed\n",
        "  def step(self):\n",
        "    #print(\"agent {} has\".format(self.name), self.wealth, \"wealth\")\n",
        "    self.move()\n",
        "    if self.greed == 0:\n",
        "      if self.wealth > 0:\n",
        "        self.giveWealth()\n",
        "  def move(self):\n",
        "    possible_steps = self.model.grid.get_neighborhood(self.pos,moore = True,include_center = False)\n",
        "    new_position = self.random.choice(possible_steps)\n",
        "    self.model.grid.move_agent(self, new_position)\n",
        "  def giveWealth(self):\n",
        "    cellmates = self.model.grid.get_cell_list_contents([self.pos])\n",
        "    cellmates.pop(cellmates.index(self))\n",
        "    if len(cellmates) > 1:\n",
        "      other = self.random.choice(cellmates)\n",
        "      other.wealth += 1\n",
        "      self.wealth -= 1"
      ],
      "metadata": {
        "id": "yOqfZCnXdfrP"
      },
      "execution_count": 9,
      "outputs": []
    },
    {
      "cell_type": "code",
      "source": [
        "class MyModel(mesa.Model):\n",
        "    def __init__(self, n_agents):\n",
        "      super().__init__()\n",
        "      self.schedule = mesa.time.RandomActivation(self)\n",
        "      self.grid = mesa.space.MultiGrid(10, 10, torus=True)\n",
        "      for i in range(n_agents):\n",
        "        wealth = random.randint(0,6)\n",
        "        greed = random.randint(0,1)\n",
        "        a = MyAgent(i,self,wealth,greed)\n",
        "        self.schedule.add(a)\n",
        "        coords = (self.random.randrange(0, 10), self.random.randrange(0, 10))\n",
        "        self.grid.place_agent(a, coords)\n",
        "      self.datacollector = mesa.DataCollector(\n",
        "          model_reporters={},\n",
        "          agent_reporters={\"Wealth\":\"wealth\"},\n",
        "        )\n",
        "    def step(self):\n",
        "      self.datacollector.collect(self)\n",
        "      self.schedule.step()"
      ],
      "metadata": {
        "id": "Erc55P24odgM"
      },
      "execution_count": 10,
      "outputs": []
    },
    {
      "cell_type": "code",
      "source": [
        "model = MyModel(500)\n",
        "for i in range(10):\n",
        "  model.step()\n",
        "agent_wealth = model.datacollector.get_agent_vars_dataframe()\n",
        "print(agent_wealth)\n",
        "last_step = agent_wealth.index.get_level_values(\"Step\").max()\n",
        "end_wealth = agent_wealth.xs(last_step, level=\"Step\")[\"Wealth\"]\n",
        "g = sns.histplot(end_wealth, discrete=True)\n",
        "g.set(\n",
        "    title=\"Distribution of wealth at the end of simulation\",\n",
        "    xlabel=\"Wealth\",\n",
        "    ylabel=\"Number of agents\",\n",
        ");\n",
        "\n"
      ],
      "metadata": {
        "colab": {
          "base_uri": "https://localhost:8080/",
          "height": 727
        },
        "id": "3IE-293Lpuhr",
        "outputId": "c7ca9853-eeb4-4368-9b97-bca42abe361c"
      },
      "execution_count": 11,
      "outputs": [
        {
          "output_type": "stream",
          "name": "stdout",
          "text": [
            "              Wealth\n",
            "Step AgentID        \n",
            "0    0             1\n",
            "     1             1\n",
            "     2             6\n",
            "     3             4\n",
            "     4             5\n",
            "...              ...\n",
            "9    426           6\n",
            "     422           7\n",
            "     225           0\n",
            "     351           7\n",
            "     415           1\n",
            "\n",
            "[5000 rows x 1 columns]\n"
          ]
        },
        {
          "output_type": "display_data",
          "data": {
            "text/plain": [
              "<Figure size 640x480 with 1 Axes>"
            ],
            "image/png": "[encoded data removed]"
          },
          "metadata": {}
        }
      ]
    },
    {
      "cell_type": "code",
      "source": [
        "agent_counts = np.zeros((model.grid.width,model.grid.height))\n",
        "for cell_content, (x,y) in model.grid.coord_iter():\n",
        "    agent_count = len(cell_content)\n",
        "    agent_counts[x][y] = agent_count\n",
        "g = sns.heatmap(agent_counts, cmap=\"viridis\", annot=True, cbar=False, square=True)\n",
        "g.figure.set_size_inches(4, 4)\n",
        "g.set(title=\"Number of agents on each cell of the grid\");"
      ],
      "metadata": {
        "colab": {
          "base_uri": "https://localhost:8080/",
          "height": 391
        },
        "id": "iUWB-aW33s80",
        "outputId": "06cec898-006e-4b85-fd2e-0eb5b1c8299b"
      },
      "execution_count": 12,
      "outputs": [
        {
          "output_type": "display_data",
          "data": {
            "text/plain": [
              "<Figure size 400x400 with 1 Axes>"
            ],
            "image/png": "[encoded data removed]"
          },
          "metadata": {}
        }
      ]
    }
  ]
}