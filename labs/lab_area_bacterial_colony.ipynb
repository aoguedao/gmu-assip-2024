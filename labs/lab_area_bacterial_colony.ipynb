{
 "cells": [
  {
   "cell_type": "markdown",
   "metadata": {},
   "source": [
    "# Project"
   ]
  },
  {
   "cell_type": "markdown",
   "metadata": {},
   "source": [
    "Let's try to compute the area of a bacterial colony on a petri dish."
   ]
  },
  {
   "cell_type": "markdown",
   "metadata": {},
   "source": [
    "![petri-dish](../images/petri-dish.png)"
   ]
  },
  {
   "cell_type": "code",
   "execution_count": null,
   "metadata": {},
   "outputs": [],
   "source": [
    "import numpy as np\n",
    "import matplotlib.pyplot as plt\n",
    "\n",
    "from shapely import Polygon, Point, points"
   ]
  },
  {
   "cell_type": "markdown",
   "metadata": {},
   "source": [
    "Next, we provide the bacterial colony as a polygon. You can as much precision you want"
   ]
  },
  {
   "cell_type": "code",
   "execution_count": null,
   "metadata": {},
   "outputs": [],
   "source": [
    "## Approximation of the bacterial colony\n",
    "coords = (\n",
    "    (2, 2),\n",
    "    (3, 4),\n",
    "    (2, 5),\n",
    "    (4, 6),\n",
    "    (6.64, 6),\n",
    "    (6.86, 5.36),\n",
    "    (8.0, 4.71),\n",
    "    (8.0, 2.73),\n",
    "    (6.66, 2.40),\n",
    "    (6.97, 1.03),\n",
    "    (5.10, 0.00),\n",
    "    (4.77, 2.20),\n",
    "    (3.82, 2.71),\n",
    "    (3.65, 1.87),\n",
    "    (2, 2)\n",
    ")\n",
    "bacteria_poly = Polygon(coords)  # Create polygon\n",
    "bacteria_poly"
   ]
  },
  {
   "cell_type": "markdown",
   "metadata": {},
   "source": [
    "Let's compute the minimum and maximum of the coordinates."
   ]
  },
  {
   "cell_type": "code",
   "execution_count": null,
   "metadata": {},
   "outputs": [],
   "source": [
    "x_coords, y_coords = bacteria_poly.exterior.xy  # x and y coordinates as an array\n",
    "x_max = max(x_coords)\n",
    "x_min = min(x_coords)\n",
    "y_max = max(y_coords)\n",
    "y_min = min(y_coords)\n",
    "print(f\"x-axis between {x_min} and {x_max}\")\n",
    "print(f\"y-axis between {y_min} and {y_max}\")"
   ]
  },
  {
   "cell_type": "markdown",
   "metadata": {},
   "source": [
    "Now, we need to create the Petri Dish, this will act as the box in the previous example. Here, the radious of the petri dish is $r = 5$ and its center $(P_x, P_y) = (5, 3)$."
   ]
  },
  {
   "cell_type": "code",
   "execution_count": null,
   "metadata": {},
   "outputs": [],
   "source": [
    "petri_radius = 5\n",
    "petri_center = (5, 3)\n",
    "petri_dish = Point(*petri_center).buffer(petri_radius)\n",
    "petri_dish"
   ]
  },
  {
   "cell_type": "markdown",
   "metadata": {},
   "source": [
    "Plot everything together"
   ]
  },
  {
   "cell_type": "code",
   "execution_count": null,
   "metadata": {},
   "outputs": [],
   "source": [
    "fig, ax = plt.subplots()\n",
    "ax.plot(*bacteria_poly.exterior.xy, label=\"Bacteria\")\n",
    "ax.plot(*petri_dish.exterior.xy, label=\"Petri Dish\")\n",
    "ax.legend(loc=\"upper right\")\n",
    "ax.set_aspect(\"equal\")\n",
    "fig.show()"
   ]
  },
  {
   "cell_type": "markdown",
   "metadata": {},
   "source": [
    "Now, in order to follow a Monte Carlo approach we need to simulate $n$ random points inside the petri dish. For that, an easy way is to use polar coordinates. Simulate $n$ random numbers between $0$ and the radious $r$, and also $n$ random angles $\\theta$ between $0$ and $2 \\pi$."
   ]
  },
  {
   "cell_type": "code",
   "execution_count": null,
   "metadata": {},
   "outputs": [],
   "source": [
    "n = # FIX ME #\n",
    "# Polar coordinates\n",
    "r_array_rndm = # FIX ME #\n",
    "theta_array_rndm = # FIX ME #"
   ]
  },
  {
   "cell_type": "markdown",
   "metadata": {},
   "source": [
    "We have simulated pairs $(r_i, \\theta_i)$ for $i=1, \\ldots, n$. Then, for getting points inside the petri dish we need to get back to cartesian coordinates and then shift them.\n",
    "\n",
    "$$\n",
    "\\begin{aligned}\n",
    "x_i &= P_x + r_i \\cos(\\theta_i) \\\\\n",
    "y_i &= P_y + r_i \\sin(\\theta_i)\n",
    "\\end{aligned}\n",
    "$$"
   ]
  },
  {
   "cell_type": "code",
   "execution_count": null,
   "metadata": {},
   "outputs": [],
   "source": [
    "# Cartesian coordinates\n",
    "x_array_rndm = # FIX ME #\n",
    "y_array_rndm = # FIX ME #"
   ]
  },
  {
   "cell_type": "markdown",
   "metadata": {},
   "source": [
    "Now let's plot these points and the petri dish."
   ]
  },
  {
   "cell_type": "code",
   "execution_count": null,
   "metadata": {},
   "outputs": [],
   "source": [
    "fig, ax = plt.subplots()\n",
    "ax.plot(*bacteria_poly.exterior.xy, label=\"Bacteria\")\n",
    "ax.plot(*petri_dish.exterior.xy, label=\"Petri Dish\")\n",
    "ax.scatter(x_array_rndm, y_array_rndm, c=\"red\", s=5)\n",
    "ax.legend()\n",
    "ax.axis('equal')\n"
   ]
  },
  {
   "cell_type": "markdown",
   "metadata": {},
   "source": [
    "The package `shapely` includes a functionality (method) for its polygons to check if a point is contained within this polygon. For example, we know the point $(0, 0)$ is not inside the bacteria polygon."
   ]
  },
  {
   "cell_type": "code",
   "execution_count": null,
   "metadata": {},
   "outputs": [],
   "source": [
    "bacteria_poly.contains(Point(0, 0))"
   ]
  },
  {
   "cell_type": "markdown",
   "metadata": {},
   "source": [
    "Now let's see we can do that automatically for each point."
   ]
  },
  {
   "cell_type": "code",
   "execution_count": null,
   "metadata": {},
   "outputs": [],
   "source": [
    "points_rndm = points(x_array_rndm, y_array_rndm)\n",
    "mask = np.array([bacteria_poly.contains(point) for point in points_rndm])"
   ]
  },
  {
   "cell_type": "markdown",
   "metadata": {},
   "source": [
    "And now we can plot the points with different markers"
   ]
  },
  {
   "cell_type": "code",
   "execution_count": null,
   "metadata": {},
   "outputs": [],
   "source": [
    "fig, ax = plt.subplots()\n",
    "ax.plot(*bacteria_poly.exterior.xy, label=\"Bacteria\")\n",
    "ax.plot(*petri_dish.exterior.xy, label=\"Petri Dish\")\n",
    "ax.scatter(x_array_rndm, y_array_rndm, c=\"red\", s=5)\n",
    "ax.scatter(x_array_rndm[mask], y_array_rndm[mask], color=\"green\", label=\"Succes\") \n",
    "ax.scatter(x_array_rndm[~mask], y_array_rndm[~mask], color=\"red\", marker=\"x\", label=\"Fail\")\n",
    "ax.legend()\n",
    "ax.axis('equal')\n",
    "plt.show()"
   ]
  },
  {
   "cell_type": "markdown",
   "metadata": {},
   "source": [
    "And finally"
   ]
  },
  {
   "cell_type": "code",
   "execution_count": null,
   "metadata": {},
   "outputs": [],
   "source": [
    "counter = # FIX ME #\n",
    "bacteria_area_estimation = # FIX ME #\n",
    "print(f\"The estimation of the area of the bacteria is {bacteria_area_estimation:.2f} square units.\")"
   ]
  }
 ],
 "metadata": {
  "kernelspec": {
   "display_name": "sciml-edu",
   "language": "python",
   "name": "python3"
  },
  "language_info": {
   "codemirror_mode": {
    "name": "ipython",
    "version": 3
   },
   "file_extension": ".py",
   "mimetype": "text/x-python",
   "name": "python",
   "nbconvert_exporter": "python",
   "pygments_lexer": "ipython3",
   "version": "3.1.undefined"
  }
 },
 "nbformat": 4,
 "nbformat_minor": 2
}
